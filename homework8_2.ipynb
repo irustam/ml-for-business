{
 "cells": [
  {
   "cell_type": "code",
   "execution_count": 18,
   "metadata": {},
   "outputs": [],
   "source": [
    "import joblib\n",
    "import dill\n",
    "import pandas as pd\n",
    "from sklearn.metrics import r2_score, mean_squared_error, mean_absolute_error"
   ]
  },
  {
   "cell_type": "markdown",
   "metadata": {},
   "source": [
    "8. Загрузите ваш отложенный на шаге 1 датасет и сохраненные ранее файлы и сделайте прогноз моделью."
   ]
  },
  {
   "cell_type": "code",
   "execution_count": 22,
   "metadata": {},
   "outputs": [],
   "source": [
    "X_test = pd.read_csv(\"hw8_X_test.csv\")\n",
    "y_test = pd.read_csv(\"hw8_y_test.csv\")\n",
    "\n",
    "X_train = pd.read_csv(\"hw8_X_train.csv\")\n",
    "y_train = pd.read_csv(\"hw8_y_train.csv\")"
   ]
  },
  {
   "cell_type": "code",
   "execution_count": 11,
   "metadata": {},
   "outputs": [],
   "source": [
    "with open(\"hw8_pipeline_model2.dill\", \"rb\") as f:\n",
    "    newpipeline = dill.load(f)"
   ]
  },
  {
   "cell_type": "code",
   "execution_count": 24,
   "metadata": {},
   "outputs": [],
   "source": [
    "y_test_pred = newpipeline.predict(X_test)\n",
    "y_train_pred = newpipeline.predict(X_train)"
   ]
  },
  {
   "cell_type": "markdown",
   "metadata": {},
   "source": [
    "9. Посчитайте метрики качества и сделайте выводы о том, насколько прогнозы (качество) на «новых» данных отличаются от того, что вы видели на cross-validation. Если будут очень серьезные отличия, то подумайте, где вы ошиблись и как это можно поправить."
   ]
  },
  {
   "cell_type": "code",
   "execution_count": 17,
   "metadata": {},
   "outputs": [],
   "source": [
    "def print_regr_model_results(y_train_pred, y_train, y_test_pred=None, y_test=None):\n",
    "    mae_train = mean_absolute_error(y_train_pred, y_train)\n",
    "    av_y_train = y_train_pred.mean()\n",
    "    \n",
    "    print('R2 score train', r2_score(y_train, y_train_pred))\n",
    "    print('Mean Absolute Error train', mae_train) \n",
    "    print('')\n",
    "    print('Ср. значение train', av_y_train)\n",
    "    print(f'Доля MAE в среднем: {round(mae_train/av_y_train*100, 3)}%')\n",
    "    \n",
    "    if y_test_pred is not None and y_test is not None:\n",
    "        mae_test = mean_absolute_error(y_test_pred, y_test)\n",
    "        av_y_test = y_test_pred.mean()\n",
    "        \n",
    "        print('')\n",
    "        print('R2 score test', r2_score(y_test, y_test_pred))\n",
    "        print('Mean Absolute Error test', mae_test)\n",
    "        print('')\n",
    "        print('Ср. значение test', av_y_test)\n",
    "        print(f'Доля MAE в среднем: {round(mae_test/av_y_test*100, 3)}%')"
   ]
  },
  {
   "cell_type": "code",
   "execution_count": 26,
   "metadata": {},
   "outputs": [
    {
     "name": "stdout",
     "output_type": "stream",
     "text": [
      "R2 score train 0.9484447830762059\n",
      "Mean Absolute Error train 4544.011744810537\n",
      "\n",
      "Ср. значение train 40748.43988003557\n",
      "Доля MAE в среднем: 11.151%\n",
      "\n",
      "R2 score test 0.8645116734159615\n",
      "Mean Absolute Error test 6629.04145649051\n",
      "\n",
      "Ср. значение test 39091.64614498531\n",
      "Доля MAE в среднем: 16.958%\n"
     ]
    }
   ],
   "source": [
    "print_regr_model_results(y_train_pred, y_train, y_test_pred, y_test)"
   ]
  },
  {
   "cell_type": "markdown",
   "metadata": {},
   "source": [
    "Качество модели на тесте ниже, чем на тренировочных данных, из-за переобучения на тренировочных данных. Но в то же время переобучение не сильное, и R2 score на тесте довольно высокий. Можно принять эту модель за итоговую.\n",
    "Улучшить ее можно подбором дополнительных гиперпараметров и добавленем новых фичей."
   ]
  },
  {
   "cell_type": "markdown",
   "metadata": {},
   "source": [
    "10. Бонусный вопрос: у вас есть на выбор два варианта разделения вашего исходного датасета - на train/test и на train/test/val. Подумайте, в каких ситуациях предпочтительнее один или второй вариант либо всегда лучше какой-то один? Какой бы выбрали вы?"
   ]
  },
  {
   "cell_type": "markdown",
   "metadata": {},
   "source": [
    "Если данных достаточно много, то предпочтительней вариант train/test/val для дополнительной проверки качества модели. В иных случаях можно обойтись train/test и делать кросс-валидацию через KFold"
   ]
  }
 ],
 "metadata": {
  "kernelspec": {
   "display_name": "Python 3",
   "language": "python",
   "name": "python3"
  },
  "language_info": {
   "codemirror_mode": {
    "name": "ipython",
    "version": 3
   },
   "file_extension": ".py",
   "mimetype": "text/x-python",
   "name": "python",
   "nbconvert_exporter": "python",
   "pygments_lexer": "ipython3",
   "version": "3.7.7"
  }
 },
 "nbformat": 4,
 "nbformat_minor": 4
}
