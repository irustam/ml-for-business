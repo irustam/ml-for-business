{
 "cells": [
  {
   "cell_type": "code",
   "execution_count": 71,
   "metadata": {},
   "outputs": [],
   "source": [
    "import numpy as np\n",
    "import pandas as pd\n",
    "from matplotlib import pyplot as plt\n",
    "from sklearn.ensemble import GradientBoostingRegressor\n",
    "import statsmodels.api as sm\n",
    "from statsmodels.tsa.arima_model import ARIMA\n",
    "import seaborn as sns\n",
    "import lightgbm as lgb\n",
    "import itertools\n",
    "import warnings\n",
    "from pylab import rcParams\n",
    "\n",
    "rcParams['figure.figsize'] = 8, 5\n",
    "warnings.filterwarnings('ignore')\n",
    "pd.set_option('display.max_columns', 500)\n",
    "plt.style.use('seaborn-whitegrid')"
   ]
  },
  {
   "cell_type": "markdown",
   "metadata": {},
   "source": [
    "1. Прочитайте базу my_PJME_MW.csv и сделайте ее перерасчет (ресемплинг) в представление по 1 месяцу."
   ]
  },
  {
   "cell_type": "code",
   "execution_count": 16,
   "metadata": {},
   "outputs": [],
   "source": [
    "df = pd.read_csv('my_PJME_MW.csv', index_col=[0], parse_dates=[0])"
   ]
  },
  {
   "cell_type": "code",
   "execution_count": 17,
   "metadata": {},
   "outputs": [
    {
     "data": {
      "text/plain": [
       "(145374, 13)"
      ]
     },
     "execution_count": 17,
     "metadata": {},
     "output_type": "execute_result"
    }
   ],
   "source": [
    "df.shape"
   ]
  },
  {
   "cell_type": "code",
   "execution_count": 18,
   "metadata": {},
   "outputs": [
    {
     "data": {
      "text/html": [
       "<div>\n",
       "<style scoped>\n",
       "    .dataframe tbody tr th:only-of-type {\n",
       "        vertical-align: middle;\n",
       "    }\n",
       "\n",
       "    .dataframe tbody tr th {\n",
       "        vertical-align: top;\n",
       "    }\n",
       "\n",
       "    .dataframe thead th {\n",
       "        text-align: right;\n",
       "    }\n",
       "</style>\n",
       "<table border=\"1\" class=\"dataframe\">\n",
       "  <thead>\n",
       "    <tr style=\"text-align: right;\">\n",
       "      <th></th>\n",
       "      <th>PJME_MW</th>\n",
       "      <th>year</th>\n",
       "      <th>month</th>\n",
       "      <th>dayofmonth</th>\n",
       "      <th>quarter</th>\n",
       "      <th>dayofyear</th>\n",
       "      <th>weekofyear</th>\n",
       "      <th>dayofweek</th>\n",
       "      <th>hour</th>\n",
       "      <th>is_holiday</th>\n",
       "      <th>is_prev_holiday</th>\n",
       "      <th>is_next_holiday</th>\n",
       "    </tr>\n",
       "    <tr>\n",
       "      <th>Date</th>\n",
       "      <th></th>\n",
       "      <th></th>\n",
       "      <th></th>\n",
       "      <th></th>\n",
       "      <th></th>\n",
       "      <th></th>\n",
       "      <th></th>\n",
       "      <th></th>\n",
       "      <th></th>\n",
       "      <th></th>\n",
       "      <th></th>\n",
       "      <th></th>\n",
       "    </tr>\n",
       "  </thead>\n",
       "  <tbody>\n",
       "    <tr>\n",
       "      <th>2002-01-31</th>\n",
       "      <td>31075.399731</td>\n",
       "      <td>2002.0</td>\n",
       "      <td>1.0</td>\n",
       "      <td>16.020188</td>\n",
       "      <td>1.0</td>\n",
       "      <td>16.020188</td>\n",
       "      <td>2.873486</td>\n",
       "      <td>2.905787</td>\n",
       "      <td>11.515478</td>\n",
       "      <td>0.063257</td>\n",
       "      <td>0.032301</td>\n",
       "      <td>0.064603</td>\n",
       "    </tr>\n",
       "    <tr>\n",
       "      <th>2002-02-28</th>\n",
       "      <td>30239.166667</td>\n",
       "      <td>2002.0</td>\n",
       "      <td>2.0</td>\n",
       "      <td>14.500000</td>\n",
       "      <td>1.0</td>\n",
       "      <td>45.500000</td>\n",
       "      <td>7.071429</td>\n",
       "      <td>3.000000</td>\n",
       "      <td>11.500000</td>\n",
       "      <td>0.035714</td>\n",
       "      <td>0.035714</td>\n",
       "      <td>0.035714</td>\n",
       "    </tr>\n",
       "    <tr>\n",
       "      <th>2002-03-31</th>\n",
       "      <td>28875.256720</td>\n",
       "      <td>2002.0</td>\n",
       "      <td>3.0</td>\n",
       "      <td>16.000000</td>\n",
       "      <td>1.0</td>\n",
       "      <td>75.000000</td>\n",
       "      <td>11.258065</td>\n",
       "      <td>3.193548</td>\n",
       "      <td>11.500000</td>\n",
       "      <td>0.000000</td>\n",
       "      <td>0.000000</td>\n",
       "      <td>0.000000</td>\n",
       "    </tr>\n",
       "    <tr>\n",
       "      <th>2002-04-30</th>\n",
       "      <td>28534.731572</td>\n",
       "      <td>2002.0</td>\n",
       "      <td>4.0</td>\n",
       "      <td>15.511822</td>\n",
       "      <td>2.0</td>\n",
       "      <td>105.511822</td>\n",
       "      <td>15.668985</td>\n",
       "      <td>2.828929</td>\n",
       "      <td>11.511822</td>\n",
       "      <td>0.000000</td>\n",
       "      <td>0.000000</td>\n",
       "      <td>0.000000</td>\n",
       "    </tr>\n",
       "    <tr>\n",
       "      <th>2002-05-31</th>\n",
       "      <td>28073.653226</td>\n",
       "      <td>2002.0</td>\n",
       "      <td>5.0</td>\n",
       "      <td>16.000000</td>\n",
       "      <td>2.0</td>\n",
       "      <td>136.000000</td>\n",
       "      <td>20.000000</td>\n",
       "      <td>3.000000</td>\n",
       "      <td>11.500000</td>\n",
       "      <td>0.032258</td>\n",
       "      <td>0.032258</td>\n",
       "      <td>0.032258</td>\n",
       "    </tr>\n",
       "  </tbody>\n",
       "</table>\n",
       "</div>"
      ],
      "text/plain": [
       "                 PJME_MW    year  month  dayofmonth  quarter   dayofyear  \\\n",
       "Date                                                                       \n",
       "2002-01-31  31075.399731  2002.0    1.0   16.020188      1.0   16.020188   \n",
       "2002-02-28  30239.166667  2002.0    2.0   14.500000      1.0   45.500000   \n",
       "2002-03-31  28875.256720  2002.0    3.0   16.000000      1.0   75.000000   \n",
       "2002-04-30  28534.731572  2002.0    4.0   15.511822      2.0  105.511822   \n",
       "2002-05-31  28073.653226  2002.0    5.0   16.000000      2.0  136.000000   \n",
       "\n",
       "            weekofyear  dayofweek       hour  is_holiday  is_prev_holiday  \\\n",
       "Date                                                                        \n",
       "2002-01-31    2.873486   2.905787  11.515478    0.063257         0.032301   \n",
       "2002-02-28    7.071429   3.000000  11.500000    0.035714         0.035714   \n",
       "2002-03-31   11.258065   3.193548  11.500000    0.000000         0.000000   \n",
       "2002-04-30   15.668985   2.828929  11.511822    0.000000         0.000000   \n",
       "2002-05-31   20.000000   3.000000  11.500000    0.032258         0.032258   \n",
       "\n",
       "            is_next_holiday  \n",
       "Date                         \n",
       "2002-01-31         0.064603  \n",
       "2002-02-28         0.035714  \n",
       "2002-03-31         0.000000  \n",
       "2002-04-30         0.000000  \n",
       "2002-05-31         0.032258  "
      ]
     },
     "execution_count": 18,
     "metadata": {},
     "output_type": "execute_result"
    }
   ],
   "source": [
    "#по месяцам\n",
    "df_m = df.resample('M').mean()\n",
    "df_m.head()"
   ]
  },
  {
   "cell_type": "code",
   "execution_count": 19,
   "metadata": {},
   "outputs": [
    {
     "data": {
      "text/plain": [
       "(200, 12)"
      ]
     },
     "execution_count": 19,
     "metadata": {},
     "output_type": "execute_result"
    }
   ],
   "source": [
    "df_m.shape"
   ]
  },
  {
   "cell_type": "markdown",
   "metadata": {},
   "source": [
    "2. Подберите параметры модели SARIMAX для этого ряда."
   ]
  },
  {
   "cell_type": "code",
   "execution_count": 20,
   "metadata": {},
   "outputs": [
    {
     "data": {
      "image/png": "[encoded data removed]",
      "text/plain": [
       "<Figure size 576x360 with 1 Axes>"
      ]
     },
     "metadata": {},
     "output_type": "display_data"
    },
    {
     "data": {
      "image/png": "[encoded data removed]",
      "text/plain": [
       "<Figure size 576x360 with 1 Axes>"
      ]
     },
     "metadata": {},
     "output_type": "display_data"
    }
   ],
   "source": [
    "#plt.figure(figsize=(20,8))\n",
    "#plt.subplot(2,1,1)\n",
    "sm.graphics.tsa.plot_acf(df_m['PJME_MW'].values, lags=12*5)\n",
    "plt.show()\n",
    "\n",
    "#plt.subplot(2,1,2)\n",
    "sm.graphics.tsa.plot_pacf(df_m['PJME_MW'].values, lags=12*5)\n",
    "plt.show()"
   ]
  },
  {
   "cell_type": "code",
   "execution_count": 22,
   "metadata": {},
   "outputs": [
    {
     "name": "stdout",
     "output_type": "stream",
     "text": [
      "Examples of parameter combinations for Seasonal ARIMA...\n",
      "SARIMAX: (0, 0, 1) x (0, 0, 1, 12)\n",
      "SARIMAX: (0, 0, 1) x (0, 0, 0, 12)\n",
      "SARIMAX: (0, 0, 2) x (0, 0, 0, 12)\n",
      "SARIMAX: (0, 0, 2) x (0, 0, 1, 12)\n"
     ]
    }
   ],
   "source": [
    "# Определим p, d и q в диапазоне 0-3\n",
    "p = d = q = range(0, 3)\n",
    "# зададим сетку p, q и q\n",
    "pdq = list(itertools.product(p, d, q))\n",
    "# зададим сезонность p, q и q\n",
    "\n",
    "p = [0] \n",
    "d = [0,1]\n",
    "q = range(0, 3)\n",
    "seasonal_pdq = [(x[0], x[1], x[2], 12) for x in list(itertools.product(p, d, q))]\n",
    "print('Examples of parameter combinations for Seasonal ARIMA...')\n",
    "print('SARIMAX: {} x {}'.format(pdq[1], seasonal_pdq[1]))\n",
    "print('SARIMAX: {} x {}'.format(pdq[1], seasonal_pdq[0]))\n",
    "print('SARIMAX: {} x {}'.format(pdq[2], seasonal_pdq[0]))\n",
    "print('SARIMAX: {} x {}'.format(pdq[2], seasonal_pdq[1]))"
   ]
  },
  {
   "cell_type": "code",
   "execution_count": 29,
   "metadata": {
    "scrolled": true
   },
   "outputs": [
    {
     "name": "stdout",
     "output_type": "stream",
     "text": [
      "ARIMA(0, 0, 0)x(0, 0, 0, 12)3 - AIC:4416.269672223332\n",
      "ARIMA(0, 0, 0)x(0, 0, 1, 12)3 - AIC:4015.3605742791474\n",
      "ARIMA(0, 0, 0)x(0, 0, 2, 12)3 - AIC:3714.4659328111006\n",
      "ARIMA(0, 0, 0)x(0, 1, 0, 12)3 - AIC:3153.6893700282526\n",
      "ARIMA(0, 0, 0)x(0, 1, 1, 12)3 - AIC:2927.716207132728\n",
      "ARIMA(0, 0, 0)x(0, 1, 2, 12)3 - AIC:2695.3223171841537\n",
      "ARIMA(0, 0, 1)x(0, 0, 0, 12)3 - AIC:4259.479361221288\n",
      "ARIMA(0, 0, 1)x(0, 0, 1, 12)3 - AIC:4012.922621936983\n",
      "ARIMA(0, 0, 1)x(0, 0, 2, 12)3 - AIC:3675.4255013529146\n",
      "ARIMA(0, 0, 1)x(0, 1, 0, 12)3 - AIC:3114.023015611569\n",
      "ARIMA(0, 0, 1)x(0, 1, 1, 12)3 - AIC:2890.4757577812406\n",
      "ARIMA(0, 0, 1)x(0, 1, 2, 12)3 - AIC:2653.7508364113446\n",
      "ARIMA(0, 0, 2)x(0, 0, 0, 12)3 - AIC:4206.520029700199\n",
      "ARIMA(0, 0, 2)x(0, 0, 1, 12)3 - AIC:3925.5304731997094\n",
      "ARIMA(0, 0, 2)x(0, 0, 2, 12)3 - AIC:3653.2702719995987\n",
      "ARIMA(0, 0, 2)x(0, 1, 0, 12)3 - AIC:3099.1118556134215\n",
      "ARIMA(0, 0, 2)x(0, 1, 1, 12)3 - AIC:2874.7748056872642\n",
      "ARIMA(0, 0, 2)x(0, 1, 2, 12)3 - AIC:2642.792771835251\n",
      "ARIMA(0, 1, 0)x(0, 0, 0, 12)3 - AIC:3564.869515313325\n",
      "ARIMA(0, 1, 0)x(0, 0, 1, 12)3 - AIC:3246.0253157419875\n",
      "ARIMA(0, 1, 0)x(0, 0, 2, 12)3 - AIC:3008.802092446899\n",
      "ARIMA(0, 1, 0)x(0, 1, 0, 12)3 - AIC:3180.627524425586\n",
      "ARIMA(0, 1, 0)x(0, 1, 1, 12)3 - AIC:2917.589367614315\n",
      "ARIMA(0, 1, 0)x(0, 1, 2, 12)3 - AIC:2696.4003725737234\n",
      "ARIMA(0, 1, 1)x(0, 0, 0, 12)3 - AIC:3512.5920619021526\n",
      "ARIMA(0, 1, 1)x(0, 0, 1, 12)3 - AIC:3225.3570601378387\n",
      "ARIMA(0, 1, 1)x(0, 0, 2, 12)3 - AIC:2969.003812449452\n",
      "ARIMA(0, 1, 1)x(0, 1, 0, 12)3 - AIC:3131.5534504989782\n",
      "ARIMA(0, 1, 1)x(0, 1, 1, 12)3 - AIC:2859.5938665213434\n",
      "ARIMA(0, 1, 1)x(0, 1, 2, 12)3 - AIC:2644.0690583715227\n",
      "ARIMA(0, 1, 2)x(0, 0, 0, 12)3 - AIC:3436.896609320567\n",
      "ARIMA(0, 1, 2)x(0, 0, 1, 12)3 - AIC:3188.1680406253054\n",
      "ARIMA(0, 1, 2)x(0, 0, 2, 12)3 - AIC:2909.891431205197\n",
      "ARIMA(0, 1, 2)x(0, 1, 0, 12)3 - AIC:3109.888094995601\n",
      "ARIMA(0, 1, 2)x(0, 1, 1, 12)3 - AIC:2828.837046728921\n",
      "ARIMA(0, 1, 2)x(0, 1, 2, 12)3 - AIC:2613.007536103961\n",
      "ARIMA(0, 2, 0)x(0, 0, 0, 12)3 - AIC:3602.608455766283\n",
      "ARIMA(0, 2, 0)x(0, 0, 1, 12)3 - AIC:3334.926125392084\n",
      "ARIMA(0, 2, 0)x(0, 0, 2, 12)3 - AIC:3101.5081550568084\n",
      "ARIMA(0, 2, 0)x(0, 1, 0, 12)3 - AIC:3328.531187794495\n",
      "ARIMA(0, 2, 0)x(0, 1, 1, 12)3 - AIC:3052.1080070462262\n",
      "ARIMA(0, 2, 0)x(0, 1, 2, 12)3 - AIC:2825.2367442170007\n",
      "ARIMA(0, 2, 1)x(0, 0, 0, 12)3 - AIC:3584.823117861032\n",
      "ARIMA(0, 2, 1)x(0, 0, 1, 12)3 - AIC:3226.1469722891566\n",
      "ARIMA(0, 2, 1)x(0, 0, 2, 12)3 - AIC:2980.5648569020645\n",
      "ARIMA(0, 2, 1)x(0, 1, 0, 12)3 - AIC:3177.0836793059984\n",
      "ARIMA(0, 2, 1)x(0, 1, 1, 12)3 - AIC:2913.913858114329\n",
      "ARIMA(0, 2, 1)x(0, 1, 2, 12)3 - AIC:2681.4901873934277\n",
      "ARIMA(0, 2, 2)x(0, 0, 0, 12)3 - AIC:3508.2845058819566\n",
      "ARIMA(0, 2, 2)x(0, 0, 1, 12)3 - AIC:3208.8171634757755\n",
      "ARIMA(0, 2, 2)x(0, 0, 2, 12)3 - AIC:2972.5430218748215\n",
      "ARIMA(0, 2, 2)x(0, 1, 0, 12)3 - AIC:3144.149524392881\n",
      "ARIMA(0, 2, 2)x(0, 1, 1, 12)3 - AIC:2867.48182544958\n",
      "ARIMA(0, 2, 2)x(0, 1, 2, 12)3 - AIC:2652.972244111883\n",
      "ARIMA(1, 0, 0)x(0, 0, 0, 12)3 - AIC:3584.596744622254\n",
      "ARIMA(1, 0, 0)x(0, 0, 1, 12)3 - AIC:3353.56819540976\n",
      "ARIMA(1, 0, 0)x(0, 0, 2, 12)3 - AIC:3053.9098265762127\n",
      "ARIMA(1, 0, 0)x(0, 1, 0, 12)3 - AIC:3132.919386959804\n",
      "ARIMA(1, 0, 0)x(0, 1, 1, 12)3 - AIC:2903.872564475084\n",
      "ARIMA(1, 0, 0)x(0, 1, 2, 12)3 - AIC:2672.6939599751795\n",
      "ARIMA(1, 0, 1)x(0, 0, 0, 12)3 - AIC:3528.2967310406875\n",
      "ARIMA(1, 0, 1)x(0, 0, 1, 12)3 - AIC:3311.8406901527733\n",
      "ARIMA(1, 0, 1)x(0, 0, 2, 12)3 - AIC:3021.1355572358307\n",
      "ARIMA(1, 0, 1)x(0, 1, 0, 12)3 - AIC:3115.8866344756843\n",
      "ARIMA(1, 0, 1)x(0, 1, 1, 12)3 - AIC:2880.307092775053\n",
      "ARIMA(1, 0, 1)x(0, 1, 2, 12)3 - AIC:2657.6819566777904\n",
      "ARIMA(1, 0, 2)x(0, 0, 0, 12)3 - AIC:3468.9340821584105\n",
      "ARIMA(1, 0, 2)x(0, 0, 1, 12)3 - AIC:3285.1938544091036\n",
      "ARIMA(1, 0, 2)x(0, 0, 2, 12)3 - AIC:2979.4115695785354\n",
      "ARIMA(1, 0, 2)x(0, 1, 0, 12)3 - AIC:3100.2972955149785\n",
      "ARIMA(1, 0, 2)x(0, 1, 1, 12)3 - AIC:2852.102925312208\n",
      "ARIMA(1, 0, 2)x(0, 1, 2, 12)3 - AIC:2632.781534140182\n",
      "ARIMA(1, 1, 0)x(0, 0, 0, 12)3 - AIC:3546.4538282504063\n",
      "ARIMA(1, 1, 0)x(0, 0, 1, 12)3 - AIC:3260.200532674756\n",
      "ARIMA(1, 1, 0)x(0, 0, 2, 12)3 - AIC:3010.797238541465\n",
      "ARIMA(1, 1, 0)x(0, 1, 0, 12)3 - AIC:3164.6133213336634\n",
      "ARIMA(1, 1, 0)x(0, 1, 1, 12)3 - AIC:2901.38204279573\n",
      "ARIMA(1, 1, 0)x(0, 1, 2, 12)3 - AIC:2677.877903357786\n",
      "ARIMA(1, 1, 1)x(0, 0, 0, 12)3 - AIC:3511.1326735862103\n",
      "ARIMA(1, 1, 1)x(0, 0, 1, 12)3 - AIC:3215.192610965396\n",
      "ARIMA(1, 1, 1)x(0, 0, 2, 12)3 - AIC:2943.3804231818885\n",
      "ARIMA(1, 1, 1)x(0, 1, 0, 12)3 - AIC:3133.2096165634075\n",
      "ARIMA(1, 1, 1)x(0, 1, 1, 12)3 - AIC:2862.1501303766972\n",
      "ARIMA(1, 1, 1)x(0, 1, 2, 12)3 - AIC:2630.2847488854936\n",
      "ARIMA(1, 1, 2)x(0, 0, 0, 12)3 - AIC:3431.2082046532933\n",
      "ARIMA(1, 1, 2)x(0, 0, 1, 12)3 - AIC:3139.7080120004903\n",
      "ARIMA(1, 1, 2)x(0, 0, 2, 12)3 - AIC:2911.2146753254406\n",
      "ARIMA(1, 1, 2)x(0, 1, 0, 12)3 - AIC:3110.1467202411677\n",
      "ARIMA(1, 1, 2)x(0, 1, 1, 12)3 - AIC:2844.6318436443707\n",
      "ARIMA(1, 1, 2)x(0, 1, 2, 12)3 - AIC:2614.7347913632584\n",
      "ARIMA(1, 2, 0)x(0, 0, 0, 12)3 - AIC:3604.005320417029\n",
      "ARIMA(1, 2, 0)x(0, 0, 1, 12)3 - AIC:3329.9573387807986\n",
      "ARIMA(1, 2, 0)x(0, 0, 2, 12)3 - AIC:3094.400224565362\n",
      "ARIMA(1, 2, 0)x(0, 1, 0, 12)3 - AIC:3272.164695589934\n",
      "ARIMA(1, 2, 0)x(0, 1, 1, 12)3 - AIC:2994.025698813411\n",
      "ARIMA(1, 2, 0)x(0, 1, 2, 12)3 - AIC:2778.4415889817938\n",
      "ARIMA(1, 2, 1)x(0, 0, 0, 12)3 - AIC:3548.5174805836605\n",
      "ARIMA(1, 2, 1)x(0, 0, 1, 12)3 - AIC:3311.367309875872\n",
      "ARIMA(1, 2, 1)x(0, 0, 2, 12)3 - AIC:2982.5621490433355\n",
      "ARIMA(1, 2, 1)x(0, 1, 0, 12)3 - AIC:3171.193574263043\n",
      "ARIMA(1, 2, 1)x(0, 1, 1, 12)3 - AIC:2894.4171472224325\n",
      "ARIMA(1, 2, 1)x(0, 1, 2, 12)3 - AIC:2675.510610151898\n",
      "ARIMA(1, 2, 2)x(0, 0, 0, 12)3 - AIC:3521.5826196214257\n",
      "ARIMA(1, 2, 2)x(0, 0, 1, 12)3 - AIC:3204.0544610598063\n",
      "ARIMA(1, 2, 2)x(0, 0, 2, 12)3 - AIC:2964.69297260314\n",
      "ARIMA(1, 2, 2)x(0, 1, 0, 12)3 - AIC:3143.3208678907267\n",
      "ARIMA(1, 2, 2)x(0, 1, 1, 12)3 - AIC:2860.0715546220945\n",
      "ARIMA(1, 2, 2)x(0, 1, 2, 12)3 - AIC:2647.1547362248493\n",
      "ARIMA(2, 0, 0)x(0, 0, 0, 12)3 - AIC:3547.4491245568975\n",
      "ARIMA(2, 0, 0)x(0, 0, 1, 12)3 - AIC:3344.0449529303423\n",
      "ARIMA(2, 0, 0)x(0, 0, 2, 12)3 - AIC:3048.3194580155177\n",
      "ARIMA(2, 0, 0)x(0, 1, 0, 12)3 - AIC:3116.242333117644\n",
      "ARIMA(2, 0, 0)x(0, 1, 1, 12)3 - AIC:2905.1902303803054\n",
      "ARIMA(2, 0, 0)x(0, 1, 2, 12)3 - AIC:2674.5150700762533\n",
      "ARIMA(2, 0, 1)x(0, 0, 0, 12)3 - AIC:3563.038366578258\n",
      "ARIMA(2, 0, 1)x(0, 0, 1, 12)3 - AIC:3274.625742127202\n",
      "ARIMA(2, 0, 1)x(0, 0, 2, 12)3 - AIC:3008.7705070739107\n",
      "ARIMA(2, 0, 1)x(0, 1, 0, 12)3 - AIC:3117.1649631802225\n",
      "ARIMA(2, 0, 1)x(0, 1, 1, 12)3 - AIC:2873.2590208128586\n",
      "ARIMA(2, 0, 1)x(0, 1, 2, 12)3 - AIC:2657.109775646925\n",
      "ARIMA(2, 0, 2)x(0, 0, 0, 12)3 - AIC:3460.9246118918645\n",
      "ARIMA(2, 0, 2)x(0, 0, 1, 12)3 - AIC:3253.507301083653\n",
      "ARIMA(2, 0, 2)x(0, 0, 2, 12)3 - AIC:2954.8283344521124\n",
      "ARIMA(2, 0, 2)x(0, 1, 0, 12)3 - AIC:3101.2063332592675\n",
      "ARIMA(2, 0, 2)x(0, 1, 1, 12)3 - AIC:2859.7461867833326\n",
      "ARIMA(2, 0, 2)x(0, 1, 2, 12)3 - AIC:2642.7919994745894\n",
      "ARIMA(2, 1, 0)x(0, 0, 0, 12)3 - AIC:3449.7072047673273\n",
      "ARIMA(2, 1, 0)x(0, 0, 1, 12)3 - AIC:3225.277899137992\n",
      "ARIMA(2, 1, 0)x(0, 0, 2, 12)3 - AIC:2994.979303499943\n",
      "ARIMA(2, 1, 0)x(0, 1, 0, 12)3 - AIC:3123.099971073302\n",
      "ARIMA(2, 1, 0)x(0, 1, 1, 12)3 - AIC:2884.581026790015\n",
      "ARIMA(2, 1, 0)x(0, 1, 2, 12)3 - AIC:2663.4542906208235\n",
      "ARIMA(2, 1, 1)x(0, 0, 0, 12)3 - AIC:3348.2043739769524\n",
      "ARIMA(2, 1, 1)x(0, 0, 1, 12)3 - AIC:3124.6928766756228\n",
      "ARIMA(2, 1, 1)x(0, 0, 2, 12)3 - AIC:2911.1456664778993\n",
      "ARIMA(2, 1, 1)x(0, 1, 0, 12)3 - AIC:3125.1048943283813\n",
      "ARIMA(2, 1, 1)x(0, 1, 1, 12)3 - AIC:2846.588603677132\n",
      "ARIMA(2, 1, 1)x(0, 1, 2, 12)3 - AIC:2632.2841666310824\n",
      "ARIMA(2, 1, 2)x(0, 0, 0, 12)3 - AIC:3327.616180605941\n",
      "ARIMA(2, 1, 2)x(0, 0, 1, 12)3 - AIC:3077.342669386844\n",
      "ARIMA(2, 1, 2)x(0, 0, 2, 12)3 - AIC:2867.8779148298145\n",
      "ARIMA(2, 1, 2)x(0, 1, 0, 12)3 - AIC:3107.293654138325\n",
      "ARIMA(2, 1, 2)x(0, 1, 1, 12)3 - AIC:2831.8907288181363\n",
      "ARIMA(2, 1, 2)x(0, 1, 2, 12)3 - AIC:2630.5999683821033\n",
      "ARIMA(2, 2, 0)x(0, 0, 0, 12)3 - AIC:3567.067691758628\n",
      "ARIMA(2, 2, 0)x(0, 0, 1, 12)3 - AIC:3318.1673157391365\n",
      "ARIMA(2, 2, 0)x(0, 0, 2, 12)3 - AIC:3068.642796642707\n",
      "ARIMA(2, 2, 0)x(0, 1, 0, 12)3 - AIC:3192.312322211699\n",
      "ARIMA(2, 2, 0)x(0, 1, 1, 12)3 - AIC:2951.6779822935187\n",
      "ARIMA(2, 2, 0)x(0, 1, 2, 12)3 - AIC:2730.3993430223913\n",
      "ARIMA(2, 2, 1)x(0, 0, 0, 12)3 - AIC:3488.628144895606\n"
     ]
    },
    {
     "name": "stdout",
     "output_type": "stream",
     "text": [
      "ARIMA(2, 2, 1)x(0, 0, 1, 12)3 - AIC:3194.6973714377104\n",
      "ARIMA(2, 2, 1)x(0, 0, 2, 12)3 - AIC:2982.015548613859\n",
      "ARIMA(2, 2, 1)x(0, 1, 0, 12)3 - AIC:3158.33543848417\n",
      "ARIMA(2, 2, 1)x(0, 1, 1, 12)3 - AIC:2880.3925539206125\n",
      "ARIMA(2, 2, 1)x(0, 1, 2, 12)3 - AIC:2636.160690186898\n",
      "ARIMA(2, 2, 2)x(0, 0, 0, 12)3 - AIC:3339.4547331996428\n",
      "ARIMA(2, 2, 2)x(0, 0, 1, 12)3 - AIC:3115.9610155722203\n",
      "ARIMA(2, 2, 2)x(0, 0, 2, 12)3 - AIC:2902.6388789857288\n",
      "ARIMA(2, 2, 2)x(0, 1, 0, 12)3 - AIC:3136.826641144524\n",
      "ARIMA(2, 2, 2)x(0, 1, 1, 12)3 - AIC:2849.077784861155\n",
      "ARIMA(2, 2, 2)x(0, 1, 2, 12)3 - AIC:2637.480150325795\n"
     ]
    }
   ],
   "source": [
    "for param in pdq:\n",
    "    for param_seasonal in seasonal_pdq:\n",
    "        try:\n",
    "            mod = sm.tsa.statespace.SARIMAX(df_m['PJME_MW'].values[:-12],order=param,\n",
    "                                    seasonal_order=param_seasonal ,\n",
    "                                    enforce_stationarity=False,\n",
    "                                    enforce_invertibility=False)\n",
    "\n",
    "            results = mod.fit()\n",
    "            print('ARIMA{}x{}3 - AIC:{}'.format(param, param_seasonal, results.aic))\n",
    "        except:\n",
    "            continue"
   ]
  },
  {
   "cell_type": "markdown",
   "metadata": {},
   "source": [
    "Наименьшее значение AIC = 2613 с параметрами ARIMA(0, 1, 2)x(0, 1, 2, 12)3 - AIC  \n",
    "Проведем моделирование прогноза по этим параметрам для последних 12 месяцев (и предсказание следующих 24):"
   ]
  },
  {
   "cell_type": "code",
   "execution_count": 33,
   "metadata": {},
   "outputs": [
    {
     "name": "stdout",
     "output_type": "stream",
     "text": [
      "AIC: 2613.007536103961\n"
     ]
    }
   ],
   "source": [
    "mod = sm.tsa.statespace.SARIMAX(df_m['PJME_MW'].values[0:-12],order=[0,1,2],\n",
    "                                seasonal_order=[0,1,2,12] ,\n",
    "                                enforce_stationarity=False,\n",
    "                                enforce_invertibility=False)\n",
    "results_opt = mod.fit()\n",
    "print('AIC:',results_opt.aic)"
   ]
  },
  {
   "cell_type": "code",
   "execution_count": 38,
   "metadata": {},
   "outputs": [
    {
     "data": {
      "image/png": "[encoded data removed]",
      "text/plain": [
       "<Figure size 576x360 with 1 Axes>"
      ]
     },
     "metadata": {},
     "output_type": "display_data"
    }
   ],
   "source": [
    "nforecast = 12+24  # полное число предиктов (тест + чистый предикт)\n",
    "\n",
    "pred_dynamic = results.forecast(nforecast)    #делаем предсказание\n",
    "pred_dynamic_opt = results_opt.forecast(nforecast)\n",
    "\n",
    "plt.plot(pred_dynamic,'grey', label='predict' )\n",
    "plt.plot(pred_dynamic_opt,'g', label='predict_opt' )\n",
    "#Отобразим истинный значения \n",
    "plt.plot(df_m['PJME_MW'].values[-12:],'or',label='true')\n",
    "plt.title('Предсказание последних точек ряда и следующих 24 точек ряда')\n",
    "plt.legend()\n",
    "\n",
    "plt.show()"
   ]
  },
  {
   "cell_type": "markdown",
   "metadata": {},
   "source": [
    "3. Сделайте вывод о том, как изменилась модель по сравнению с недельной."
   ]
  },
  {
   "cell_type": "markdown",
   "metadata": {},
   "source": [
    "- информационный критерий Акаике стал точнее почти в 3 раза, благорадря более сглаживанию данных до месячного уровня.\n",
    "- следовательно, чем больший период для ресемплинга ряда мы берем, тем легче строить его предсказание."
   ]
  },
  {
   "cell_type": "markdown",
   "metadata": {},
   "source": [
    "4. Возмите вариант 1 или 2 \n",
    "    - Вариант 1) - Постройте ACF, PACF и модель ARIMA для BRENT (недельный ресемплинг)\n",
    "    - Вариант 2) - Постройте ACF, PACF и модель ARIMA для СOVID_19  (по любой стране кроме Китая на дневных графиках )"
   ]
  },
  {
   "cell_type": "markdown",
   "metadata": {},
   "source": [
    "Беру вариант 1) BRENT (недельный ресемплинг):"
   ]
  },
  {
   "cell_type": "code",
   "execution_count": 40,
   "metadata": {},
   "outputs": [
    {
     "data": {
      "text/plain": [
       "(2667, 11)"
      ]
     },
     "execution_count": 40,
     "metadata": {},
     "output_type": "execute_result"
    }
   ],
   "source": [
    "df_brent = pd.read_csv('my_BRENT2019.csv',sep = ',', index_col=[0], parse_dates=[0])\n",
    "df_brent.shape"
   ]
  },
  {
   "cell_type": "code",
   "execution_count": 44,
   "metadata": {},
   "outputs": [
    {
     "data": {
      "text/html": [
       "<div>\n",
       "<style scoped>\n",
       "    .dataframe tbody tr th:only-of-type {\n",
       "        vertical-align: middle;\n",
       "    }\n",
       "\n",
       "    .dataframe tbody tr th {\n",
       "        vertical-align: top;\n",
       "    }\n",
       "\n",
       "    .dataframe thead th {\n",
       "        text-align: right;\n",
       "    }\n",
       "</style>\n",
       "<table border=\"1\" class=\"dataframe\">\n",
       "  <thead>\n",
       "    <tr style=\"text-align: right;\">\n",
       "      <th></th>\n",
       "      <th>Значение</th>\n",
       "      <th>year</th>\n",
       "      <th>month</th>\n",
       "      <th>dayofmonth</th>\n",
       "      <th>quarter</th>\n",
       "      <th>dayofyear</th>\n",
       "      <th>weekofyear</th>\n",
       "      <th>dayofweek</th>\n",
       "      <th>is_holiday</th>\n",
       "      <th>is_prev_holiday</th>\n",
       "      <th>is_next_holiday</th>\n",
       "    </tr>\n",
       "    <tr>\n",
       "      <th>Дата</th>\n",
       "      <th></th>\n",
       "      <th></th>\n",
       "      <th></th>\n",
       "      <th></th>\n",
       "      <th></th>\n",
       "      <th></th>\n",
       "      <th></th>\n",
       "      <th></th>\n",
       "      <th></th>\n",
       "      <th></th>\n",
       "      <th></th>\n",
       "    </tr>\n",
       "  </thead>\n",
       "  <tbody>\n",
       "    <tr>\n",
       "      <th>2010-09-05</th>\n",
       "      <td>76.616000</td>\n",
       "      <td>2010.0</td>\n",
       "      <td>9.000000</td>\n",
       "      <td>3.000000</td>\n",
       "      <td>3.000000</td>\n",
       "      <td>246.000000</td>\n",
       "      <td>35.0</td>\n",
       "      <td>4.000000</td>\n",
       "      <td>0.000000</td>\n",
       "      <td>0.2</td>\n",
       "      <td>0.000000</td>\n",
       "    </tr>\n",
       "    <tr>\n",
       "      <th>2010-09-12</th>\n",
       "      <td>77.673333</td>\n",
       "      <td>2010.0</td>\n",
       "      <td>9.000000</td>\n",
       "      <td>8.500000</td>\n",
       "      <td>3.000000</td>\n",
       "      <td>251.500000</td>\n",
       "      <td>36.0</td>\n",
       "      <td>2.500000</td>\n",
       "      <td>0.166667</td>\n",
       "      <td>0.0</td>\n",
       "      <td>0.166667</td>\n",
       "    </tr>\n",
       "    <tr>\n",
       "      <th>2010-09-19</th>\n",
       "      <td>78.693333</td>\n",
       "      <td>2010.0</td>\n",
       "      <td>9.000000</td>\n",
       "      <td>15.666667</td>\n",
       "      <td>3.000000</td>\n",
       "      <td>258.666667</td>\n",
       "      <td>37.0</td>\n",
       "      <td>2.666667</td>\n",
       "      <td>0.000000</td>\n",
       "      <td>0.0</td>\n",
       "      <td>0.000000</td>\n",
       "    </tr>\n",
       "    <tr>\n",
       "      <th>2010-09-26</th>\n",
       "      <td>78.518333</td>\n",
       "      <td>2010.0</td>\n",
       "      <td>9.000000</td>\n",
       "      <td>22.666667</td>\n",
       "      <td>3.000000</td>\n",
       "      <td>265.666667</td>\n",
       "      <td>38.0</td>\n",
       "      <td>2.666667</td>\n",
       "      <td>0.000000</td>\n",
       "      <td>0.0</td>\n",
       "      <td>0.000000</td>\n",
       "    </tr>\n",
       "    <tr>\n",
       "      <th>2010-10-03</th>\n",
       "      <td>81.211667</td>\n",
       "      <td>2010.0</td>\n",
       "      <td>9.333333</td>\n",
       "      <td>19.666667</td>\n",
       "      <td>3.333333</td>\n",
       "      <td>272.666667</td>\n",
       "      <td>39.0</td>\n",
       "      <td>2.666667</td>\n",
       "      <td>0.000000</td>\n",
       "      <td>0.0</td>\n",
       "      <td>0.000000</td>\n",
       "    </tr>\n",
       "  </tbody>\n",
       "</table>\n",
       "</div>"
      ],
      "text/plain": [
       "             Значение    year     month  dayofmonth   quarter   dayofyear  \\\n",
       "Дата                                                                        \n",
       "2010-09-05  76.616000  2010.0  9.000000    3.000000  3.000000  246.000000   \n",
       "2010-09-12  77.673333  2010.0  9.000000    8.500000  3.000000  251.500000   \n",
       "2010-09-19  78.693333  2010.0  9.000000   15.666667  3.000000  258.666667   \n",
       "2010-09-26  78.518333  2010.0  9.000000   22.666667  3.000000  265.666667   \n",
       "2010-10-03  81.211667  2010.0  9.333333   19.666667  3.333333  272.666667   \n",
       "\n",
       "            weekofyear  dayofweek  is_holiday  is_prev_holiday  \\\n",
       "Дата                                                             \n",
       "2010-09-05        35.0   4.000000    0.000000              0.2   \n",
       "2010-09-12        36.0   2.500000    0.166667              0.0   \n",
       "2010-09-19        37.0   2.666667    0.000000              0.0   \n",
       "2010-09-26        38.0   2.666667    0.000000              0.0   \n",
       "2010-10-03        39.0   2.666667    0.000000              0.0   \n",
       "\n",
       "            is_next_holiday  \n",
       "Дата                         \n",
       "2010-09-05         0.000000  \n",
       "2010-09-12         0.166667  \n",
       "2010-09-19         0.000000  \n",
       "2010-09-26         0.000000  \n",
       "2010-10-03         0.000000  "
      ]
     },
     "execution_count": 44,
     "metadata": {},
     "output_type": "execute_result"
    }
   ],
   "source": [
    "#по месяцам\n",
    "df_brent_w = df_brent.resample('W').mean()\n",
    "df_brent_w.head()"
   ]
  },
  {
   "cell_type": "code",
   "execution_count": 46,
   "metadata": {},
   "outputs": [
    {
     "data": {
      "text/plain": [
       "(470, 11)"
      ]
     },
     "execution_count": 46,
     "metadata": {},
     "output_type": "execute_result"
    }
   ],
   "source": [
    "df_brent_w.shape"
   ]
  },
  {
   "cell_type": "code",
   "execution_count": 49,
   "metadata": {},
   "outputs": [
    {
     "data": {
      "text/plain": [
       "<matplotlib.axes._subplots.AxesSubplot at 0x2132aa67e48>"
      ]
     },
     "execution_count": 49,
     "metadata": {},
     "output_type": "execute_result"
    },
    {
     "data": {
      "image/png": "[encoded data removed]",
      "text/plain": [
       "<Figure size 1008x360 with 1 Axes>"
      ]
     },
     "metadata": {},
     "output_type": "display_data"
    }
   ],
   "source": [
    "#посмотрим на заполненность данных\n",
    "rcParams['figure.figsize'] = 14, 5\n",
    "df_brent_w['Значение'].plot()"
   ]
  },
  {
   "cell_type": "code",
   "execution_count": 59,
   "metadata": {},
   "outputs": [
    {
     "data": {
      "text/plain": [
       "[<matplotlib.lines.Line2D at 0x2132d0f38c8>]"
      ]
     },
     "execution_count": 59,
     "metadata": {},
     "output_type": "execute_result"
    },
    {
     "data": {
      "image/png": "[encoded data removed]",
      "text/plain": [
       "<Figure size 1008x360 with 1 Axes>"
      ]
     },
     "metadata": {},
     "output_type": "display_data"
    }
   ],
   "source": [
    "#Взглянем детальней на пропуск в конце 2011-го:\n",
    "plt.plot(df_brent_w['2011-09-01':'2011-12-01'].index,\n",
    "         df_brent_w['2011-09-01':'2011-12-01']['Значение'].values, 'r')"
   ]
  },
  {
   "cell_type": "code",
   "execution_count": 61,
   "metadata": {},
   "outputs": [
    {
     "data": {
      "text/html": [
       "<div>\n",
       "<style scoped>\n",
       "    .dataframe tbody tr th:only-of-type {\n",
       "        vertical-align: middle;\n",
       "    }\n",
       "\n",
       "    .dataframe tbody tr th {\n",
       "        vertical-align: top;\n",
       "    }\n",
       "\n",
       "    .dataframe thead th {\n",
       "        text-align: right;\n",
       "    }\n",
       "</style>\n",
       "<table border=\"1\" class=\"dataframe\">\n",
       "  <thead>\n",
       "    <tr style=\"text-align: right;\">\n",
       "      <th></th>\n",
       "      <th>Значение</th>\n",
       "      <th>year</th>\n",
       "      <th>month</th>\n",
       "      <th>dayofmonth</th>\n",
       "      <th>quarter</th>\n",
       "      <th>dayofyear</th>\n",
       "      <th>weekofyear</th>\n",
       "      <th>dayofweek</th>\n",
       "      <th>is_holiday</th>\n",
       "      <th>is_prev_holiday</th>\n",
       "      <th>is_next_holiday</th>\n",
       "    </tr>\n",
       "    <tr>\n",
       "      <th>Дата</th>\n",
       "      <th></th>\n",
       "      <th></th>\n",
       "      <th></th>\n",
       "      <th></th>\n",
       "      <th></th>\n",
       "      <th></th>\n",
       "      <th></th>\n",
       "      <th></th>\n",
       "      <th></th>\n",
       "      <th></th>\n",
       "      <th></th>\n",
       "    </tr>\n",
       "  </thead>\n",
       "  <tbody>\n",
       "    <tr>\n",
       "      <th>2011-10-02</th>\n",
       "      <td>103.878333</td>\n",
       "      <td>2011.0</td>\n",
       "      <td>9.166667</td>\n",
       "      <td>23.666667</td>\n",
       "      <td>3.166667</td>\n",
       "      <td>271.666667</td>\n",
       "      <td>39.0</td>\n",
       "      <td>2.666667</td>\n",
       "      <td>0.0</td>\n",
       "      <td>0.000000</td>\n",
       "      <td>0.0</td>\n",
       "    </tr>\n",
       "    <tr>\n",
       "      <th>2011-10-09</th>\n",
       "      <td>103.476667</td>\n",
       "      <td>2011.0</td>\n",
       "      <td>10.000000</td>\n",
       "      <td>5.666667</td>\n",
       "      <td>4.000000</td>\n",
       "      <td>278.666667</td>\n",
       "      <td>40.0</td>\n",
       "      <td>2.666667</td>\n",
       "      <td>0.0</td>\n",
       "      <td>0.166667</td>\n",
       "      <td>0.0</td>\n",
       "    </tr>\n",
       "    <tr>\n",
       "      <th>2011-10-16</th>\n",
       "      <td>NaN</td>\n",
       "      <td>NaN</td>\n",
       "      <td>NaN</td>\n",
       "      <td>NaN</td>\n",
       "      <td>NaN</td>\n",
       "      <td>NaN</td>\n",
       "      <td>NaN</td>\n",
       "      <td>NaN</td>\n",
       "      <td>NaN</td>\n",
       "      <td>NaN</td>\n",
       "      <td>NaN</td>\n",
       "    </tr>\n",
       "    <tr>\n",
       "      <th>2011-10-23</th>\n",
       "      <td>109.756667</td>\n",
       "      <td>2011.0</td>\n",
       "      <td>10.000000</td>\n",
       "      <td>21.333333</td>\n",
       "      <td>4.000000</td>\n",
       "      <td>294.333333</td>\n",
       "      <td>42.0</td>\n",
       "      <td>4.333333</td>\n",
       "      <td>0.0</td>\n",
       "      <td>0.000000</td>\n",
       "      <td>0.0</td>\n",
       "    </tr>\n",
       "    <tr>\n",
       "      <th>2011-10-30</th>\n",
       "      <td>110.680000</td>\n",
       "      <td>2011.0</td>\n",
       "      <td>10.000000</td>\n",
       "      <td>26.666667</td>\n",
       "      <td>4.000000</td>\n",
       "      <td>299.666667</td>\n",
       "      <td>43.0</td>\n",
       "      <td>2.666667</td>\n",
       "      <td>0.0</td>\n",
       "      <td>0.000000</td>\n",
       "      <td>0.0</td>\n",
       "    </tr>\n",
       "  </tbody>\n",
       "</table>\n",
       "</div>"
      ],
      "text/plain": [
       "              Значение    year      month  dayofmonth   quarter   dayofyear  \\\n",
       "Дата                                                                          \n",
       "2011-10-02  103.878333  2011.0   9.166667   23.666667  3.166667  271.666667   \n",
       "2011-10-09  103.476667  2011.0  10.000000    5.666667  4.000000  278.666667   \n",
       "2011-10-16         NaN     NaN        NaN         NaN       NaN         NaN   \n",
       "2011-10-23  109.756667  2011.0  10.000000   21.333333  4.000000  294.333333   \n",
       "2011-10-30  110.680000  2011.0  10.000000   26.666667  4.000000  299.666667   \n",
       "\n",
       "            weekofyear  dayofweek  is_holiday  is_prev_holiday  \\\n",
       "Дата                                                             \n",
       "2011-10-02        39.0   2.666667         0.0         0.000000   \n",
       "2011-10-09        40.0   2.666667         0.0         0.166667   \n",
       "2011-10-16         NaN        NaN         NaN              NaN   \n",
       "2011-10-23        42.0   4.333333         0.0         0.000000   \n",
       "2011-10-30        43.0   2.666667         0.0         0.000000   \n",
       "\n",
       "            is_next_holiday  \n",
       "Дата                         \n",
       "2011-10-02              0.0  \n",
       "2011-10-09              0.0  \n",
       "2011-10-16              NaN  \n",
       "2011-10-23              0.0  \n",
       "2011-10-30              0.0  "
      ]
     },
     "execution_count": 61,
     "metadata": {},
     "output_type": "execute_result"
    }
   ],
   "source": [
    "df_brent_w.loc['2011-10-01':'2011-11-01']"
   ]
  },
  {
   "cell_type": "markdown",
   "metadata": {},
   "source": [
    "Восстановим значение за одну неделю, как среднее, между соседними неделями"
   ]
  },
  {
   "cell_type": "code",
   "execution_count": 63,
   "metadata": {},
   "outputs": [
    {
     "data": {
      "text/html": [
       "<div>\n",
       "<style scoped>\n",
       "    .dataframe tbody tr th:only-of-type {\n",
       "        vertical-align: middle;\n",
       "    }\n",
       "\n",
       "    .dataframe tbody tr th {\n",
       "        vertical-align: top;\n",
       "    }\n",
       "\n",
       "    .dataframe thead th {\n",
       "        text-align: right;\n",
       "    }\n",
       "</style>\n",
       "<table border=\"1\" class=\"dataframe\">\n",
       "  <thead>\n",
       "    <tr style=\"text-align: right;\">\n",
       "      <th></th>\n",
       "      <th>Значение</th>\n",
       "      <th>year</th>\n",
       "      <th>month</th>\n",
       "      <th>dayofmonth</th>\n",
       "      <th>quarter</th>\n",
       "      <th>dayofyear</th>\n",
       "      <th>weekofyear</th>\n",
       "      <th>dayofweek</th>\n",
       "      <th>is_holiday</th>\n",
       "      <th>is_prev_holiday</th>\n",
       "      <th>is_next_holiday</th>\n",
       "    </tr>\n",
       "    <tr>\n",
       "      <th>Дата</th>\n",
       "      <th></th>\n",
       "      <th></th>\n",
       "      <th></th>\n",
       "      <th></th>\n",
       "      <th></th>\n",
       "      <th></th>\n",
       "      <th></th>\n",
       "      <th></th>\n",
       "      <th></th>\n",
       "      <th></th>\n",
       "      <th></th>\n",
       "    </tr>\n",
       "  </thead>\n",
       "  <tbody>\n",
       "    <tr>\n",
       "      <th>2011-10-02</th>\n",
       "      <td>103.878333</td>\n",
       "      <td>2011.0</td>\n",
       "      <td>9.166667</td>\n",
       "      <td>23.666667</td>\n",
       "      <td>3.166667</td>\n",
       "      <td>271.666667</td>\n",
       "      <td>39.0</td>\n",
       "      <td>2.666667</td>\n",
       "      <td>0.0</td>\n",
       "      <td>0.000000</td>\n",
       "      <td>0.0</td>\n",
       "    </tr>\n",
       "    <tr>\n",
       "      <th>2011-10-09</th>\n",
       "      <td>103.476667</td>\n",
       "      <td>2011.0</td>\n",
       "      <td>10.000000</td>\n",
       "      <td>5.666667</td>\n",
       "      <td>4.000000</td>\n",
       "      <td>278.666667</td>\n",
       "      <td>40.0</td>\n",
       "      <td>2.666667</td>\n",
       "      <td>0.0</td>\n",
       "      <td>0.166667</td>\n",
       "      <td>0.0</td>\n",
       "    </tr>\n",
       "    <tr>\n",
       "      <th>2011-10-16</th>\n",
       "      <td>106.616667</td>\n",
       "      <td>NaN</td>\n",
       "      <td>NaN</td>\n",
       "      <td>NaN</td>\n",
       "      <td>NaN</td>\n",
       "      <td>NaN</td>\n",
       "      <td>NaN</td>\n",
       "      <td>NaN</td>\n",
       "      <td>NaN</td>\n",
       "      <td>NaN</td>\n",
       "      <td>NaN</td>\n",
       "    </tr>\n",
       "    <tr>\n",
       "      <th>2011-10-23</th>\n",
       "      <td>109.756667</td>\n",
       "      <td>2011.0</td>\n",
       "      <td>10.000000</td>\n",
       "      <td>21.333333</td>\n",
       "      <td>4.000000</td>\n",
       "      <td>294.333333</td>\n",
       "      <td>42.0</td>\n",
       "      <td>4.333333</td>\n",
       "      <td>0.0</td>\n",
       "      <td>0.000000</td>\n",
       "      <td>0.0</td>\n",
       "    </tr>\n",
       "    <tr>\n",
       "      <th>2011-10-30</th>\n",
       "      <td>110.680000</td>\n",
       "      <td>2011.0</td>\n",
       "      <td>10.000000</td>\n",
       "      <td>26.666667</td>\n",
       "      <td>4.000000</td>\n",
       "      <td>299.666667</td>\n",
       "      <td>43.0</td>\n",
       "      <td>2.666667</td>\n",
       "      <td>0.0</td>\n",
       "      <td>0.000000</td>\n",
       "      <td>0.0</td>\n",
       "    </tr>\n",
       "  </tbody>\n",
       "</table>\n",
       "</div>"
      ],
      "text/plain": [
       "              Значение    year      month  dayofmonth   quarter   dayofyear  \\\n",
       "Дата                                                                          \n",
       "2011-10-02  103.878333  2011.0   9.166667   23.666667  3.166667  271.666667   \n",
       "2011-10-09  103.476667  2011.0  10.000000    5.666667  4.000000  278.666667   \n",
       "2011-10-16  106.616667     NaN        NaN         NaN       NaN         NaN   \n",
       "2011-10-23  109.756667  2011.0  10.000000   21.333333  4.000000  294.333333   \n",
       "2011-10-30  110.680000  2011.0  10.000000   26.666667  4.000000  299.666667   \n",
       "\n",
       "            weekofyear  dayofweek  is_holiday  is_prev_holiday  \\\n",
       "Дата                                                             \n",
       "2011-10-02        39.0   2.666667         0.0         0.000000   \n",
       "2011-10-09        40.0   2.666667         0.0         0.166667   \n",
       "2011-10-16         NaN        NaN         NaN              NaN   \n",
       "2011-10-23        42.0   4.333333         0.0         0.000000   \n",
       "2011-10-30        43.0   2.666667         0.0         0.000000   \n",
       "\n",
       "            is_next_holiday  \n",
       "Дата                         \n",
       "2011-10-02              0.0  \n",
       "2011-10-09              0.0  \n",
       "2011-10-16              NaN  \n",
       "2011-10-23              0.0  \n",
       "2011-10-30              0.0  "
      ]
     },
     "execution_count": 63,
     "metadata": {},
     "output_type": "execute_result"
    }
   ],
   "source": [
    "df_brent_w.loc['2011-10-16', 'Значение'] = (df_brent_w.loc['2011-10-09', 'Значение'] + \n",
    "                                            df_brent_w.loc['2011-10-23', 'Значение'])/2\n",
    "df_brent_w.loc['2011-10-01':'2011-11-01']"
   ]
  },
  {
   "cell_type": "code",
   "execution_count": 64,
   "metadata": {},
   "outputs": [
    {
     "data": {
      "image/png": "[encoded data removed]",
      "text/plain": [
       "<Figure size 1008x360 with 1 Axes>"
      ]
     },
     "metadata": {},
     "output_type": "display_data"
    },
    {
     "data": {
      "image/png": "[encoded data removed]",
      "text/plain": [
       "<Figure size 1008x360 with 1 Axes>"
      ]
     },
     "metadata": {},
     "output_type": "display_data"
    }
   ],
   "source": [
    "#plt.figure(figsize=(20,8))\n",
    "#plt.subplot(2,1,1)\n",
    "sm.graphics.tsa.plot_acf(df_brent_w['Значение'].values, lags=12*5)\n",
    "plt.show()\n",
    "\n",
    "#plt.subplot(2,1,2)\n",
    "sm.graphics.tsa.plot_pacf(df_brent_w['Значение'].values, lags=12*5)\n",
    "plt.show()"
   ]
  },
  {
   "cell_type": "code",
   "execution_count": 83,
   "metadata": {},
   "outputs": [],
   "source": [
    "# Определим p, d и q\n",
    "p = range(0, 5)\n",
    "d = range(0, 3)\n",
    "q = range(0, 3)\n",
    "\n",
    "# зададим сетку p, q и q\n",
    "pdq = list(itertools.product(p, d, q))"
   ]
  },
  {
   "cell_type": "code",
   "execution_count": 84,
   "metadata": {
    "scrolled": true
   },
   "outputs": [
    {
     "name": "stdout",
     "output_type": "stream",
     "text": [
      "ARIMA(0, 0, 0) - AIC:882.4039687374488\n",
      "ARIMA(0, 0, 1) - AIC:734.7578090885395\n",
      "ARIMA(0, 1, 0) - AIC:449.7593508906527\n",
      "ARIMA(0, 1, 1) - AIC:437.4993441997092\n",
      "ARIMA(0, 1, 2) - AIC:439.49697162608805\n",
      "ARIMA(0, 2, 0) - AIC:484.7758237114437\n",
      "ARIMA(0, 2, 1) - AIC:452.68683495148804\n",
      "ARIMA(0, 2, 2) - AIC:440.3607025420091\n",
      "ARIMA(1, 0, 0) - AIC:461.6248575355552\n",
      "ARIMA(1, 0, 1) - AIC:448.2755804182059\n",
      "ARIMA(1, 0, 2) - AIC:450.22646004399223\n",
      "ARIMA(1, 1, 0) - AIC:441.0297422326223\n",
      "ARIMA(1, 1, 1) - AIC:439.49836869092144\n",
      "ARIMA(1, 2, 0) - AIC:482.0195656609196\n",
      "ARIMA(1, 2, 1) - AIC:443.75245549975597\n",
      "ARIMA(2, 0, 0) - AIC:451.50768627734385\n",
      "ARIMA(2, 0, 1) - AIC:450.2531070699638\n",
      "ARIMA(2, 1, 0) - AIC:436.5061115081002\n",
      "ARIMA(2, 1, 1) - AIC:437.0263318393633\n",
      "ARIMA(2, 1, 2) - AIC:438.9381713432583\n",
      "ARIMA(2, 2, 0) - AIC:473.16505320644296\n",
      "ARIMA(2, 2, 1) - AIC:439.5941252859793\n",
      "ARIMA(2, 2, 2) - AIC:440.22573906947673\n",
      "ARIMA(3, 0, 0) - AIC:448.03094357164895\n",
      "ARIMA(3, 0, 1) - AIC:449.44620924243173\n",
      "ARIMA(3, 0, 2) - AIC:449.44433990183325\n",
      "ARIMA(3, 1, 0) - AIC:437.7447948233464\n",
      "ARIMA(3, 1, 1) - AIC:439.2741269564377\n",
      "ARIMA(3, 1, 2) - AIC:440.9443462946512\n",
      "ARIMA(3, 2, 0) - AIC:466.6362681462985\n",
      "ARIMA(3, 2, 1) - AIC:440.8796050231242\n",
      "ARIMA(3, 2, 2) - AIC:442.36955080524785\n",
      "ARIMA(4, 0, 0) - AIC:449.6301409116547\n",
      "ARIMA(4, 0, 1) - AIC:451.05150777313247\n",
      "ARIMA(4, 0, 2) - AIC:451.4427580515038\n",
      "ARIMA(4, 1, 0) - AIC:439.6063842226971\n",
      "ARIMA(4, 1, 1) - AIC:441.27346414650196\n",
      "ARIMA(4, 1, 2) - AIC:441.48199462919393\n",
      "ARIMA(4, 2, 0) - AIC:467.8604987610285\n",
      "ARIMA(4, 2, 1) - AIC:442.7636770206889\n",
      "ARIMA(4, 2, 2) - AIC:444.05654841364554\n",
      "Наименьшую ошибку 436.5061115081002 дают параметры (2, 1, 0)\n"
     ]
    }
   ],
   "source": [
    "best = ('', np.inf)\n",
    "for param in pdq:\n",
    "    try:\n",
    "        mod = ARIMA(df_brent_w['Значение'].values[300:-52],order=param)\n",
    "        results = mod.fit()\n",
    "        print('ARIMA{} - AIC:{}'.format(param, results.aic))\n",
    "        if best[1] > results.aic:\n",
    "            best = (param, results.aic)\n",
    "    except:\n",
    "        continue\n",
    "print(f'Наименьшую ошибку {best[1]} дают параметры {best[0]}')"
   ]
  },
  {
   "cell_type": "code",
   "execution_count": 85,
   "metadata": {},
   "outputs": [
    {
     "name": "stdout",
     "output_type": "stream",
     "text": [
      "AIC: 436.5061115081002\n"
     ]
    }
   ],
   "source": [
    "mod = ARIMA(df_brent_w['Значение'].values[300:-52],order=(2, 1, 0))\n",
    "results_opt = mod.fit()\n",
    "print('AIC:',results_opt.aic)"
   ]
  },
  {
   "cell_type": "code",
   "execution_count": 96,
   "metadata": {},
   "outputs": [
    {
     "data": {
      "text/plain": [
       "(array([77.99397695, 77.75402145, 77.70702852, 77.95540679, 78.26669594,\n",
       "        78.53077053, 78.76243929, 78.99341443, 79.23185878, 79.47322253,\n",
       "        79.7138822 , 79.95358634, 80.19310598, 80.43278538, 80.67256767,\n",
       "        80.91234981, 81.15210736, 81.39185589, 81.63160696, 81.8713611 ,\n",
       "        82.11111578, 82.35086993, 82.59062374, 82.83037757, 83.07013147,\n",
       "        83.30988541, 83.54963933, 83.78939324, 84.02914716, 84.26890107,\n",
       "        84.50865499, 84.7484089 , 84.98816282, 85.22791673, 85.46767065,\n",
       "        85.70742456, 85.94717848, 86.18693239, 86.42668631, 86.66644022,\n",
       "        86.90619414, 87.14594805, 87.38570197, 87.62545588, 87.8652098 ,\n",
       "        88.10496371, 88.34471763, 88.58447155, 88.82422546, 89.06397938,\n",
       "        89.30373329, 89.54348721, 89.78324112, 90.02299504, 90.26274895,\n",
       "        90.50250287, 90.74225678, 90.9820107 , 91.22176461, 91.46151853,\n",
       "        91.70127244, 91.94102636, 92.18078027, 92.42053419, 92.6602881 ,\n",
       "        92.90004202, 93.13979593, 93.37954985, 93.61930376, 93.85905768,\n",
       "        94.0988116 , 94.33856551, 94.57831943, 94.81807334, 95.05782726,\n",
       "        95.29758117]),\n",
       " array([ 1.50890982,  2.5577682 ,  3.1926552 ,  3.62701908,  4.00059229,\n",
       "         4.355081  ,  4.69021877,  5.00279164,  5.29532535,  5.57198973,\n",
       "         5.83571532,  6.08820149,  6.33065156,  6.56412342,  6.78955546,\n",
       "         7.00774008,  7.21933757,  7.42490857,  7.62493888,  7.81985368,\n",
       "         8.01002681,  8.19578847,  8.37743209,  8.55521994,  8.72938759,\n",
       "         8.9001476 ,  9.06769247,  9.23219727,  9.39382169,  9.55271195,\n",
       "         9.70900227,  9.86281626, 10.01426803, 10.16346318, 10.31049967,\n",
       "        10.45546857, 10.59845472, 10.73953733, 10.87879045, 11.01628346,\n",
       "        11.15208145, 11.28624563, 11.41883356, 11.54989954, 11.67949481,\n",
       "        11.80766779, 11.9344643 , 12.05992777, 12.18409936, 12.3070182 ,\n",
       "        12.42872143, 12.54924444, 12.6686209 , 12.78688293, 12.90406117,\n",
       "        13.02018488, 13.13528202, 13.24937936, 13.3625025 , 13.47467597,\n",
       "        13.58592331, 13.69626707, 13.80572893, 13.91432969, 14.02208937,\n",
       "        14.12902721, 14.23516173, 14.34051077, 14.44509151, 14.54892052,\n",
       "        14.65201378, 14.75438672, 14.85605422, 14.95703067, 15.05732998,\n",
       "        15.15696558]),\n",
       " array([[ 75.03656804,  80.95138585],\n",
       "        [ 72.7408879 ,  82.76715499],\n",
       "        [ 71.44953931,  83.96451773],\n",
       "        [ 70.84658002,  85.06423356],\n",
       "        [ 70.42567914,  86.10771274],\n",
       "        [ 69.99496861,  87.06657245],\n",
       "        [ 69.56977943,  87.95509916],\n",
       "        [ 69.18812301,  88.79870586],\n",
       "        [ 68.85321181,  89.61050575],\n",
       "        [ 68.55232334,  90.39412172],\n",
       "        [ 68.27609035,  91.15167405],\n",
       "        [ 68.02093068,  91.88624199],\n",
       "        [ 67.78525692,  92.60095504],\n",
       "        [ 67.56733989,  93.29823086],\n",
       "        [ 67.3652835 ,  93.97985183],\n",
       "        [ 67.17743164,  94.64726797],\n",
       "        [ 67.00246573,  95.301749  ],\n",
       "        [ 66.83930251,  95.94440928],\n",
       "        [ 66.68700137,  96.57621254],\n",
       "        [ 66.54472952,  97.19799268],\n",
       "        [ 66.41175173,  97.81047984],\n",
       "        [ 66.28741971,  98.41432014],\n",
       "        [ 66.17115857,  99.01008892],\n",
       "        [ 66.06245461,  99.59830052],\n",
       "        [ 65.96084618, 100.17941676],\n",
       "        [ 65.86591666, 100.75385415],\n",
       "        [ 65.77728866, 101.32199   ],\n",
       "        [ 65.6946191 , 101.88416739],\n",
       "        [ 65.61759497, 102.44069935],\n",
       "        [ 65.5459297 , 102.99187244],\n",
       "        [ 65.47936021, 103.53794976],\n",
       "        [ 65.41764424, 104.07917357],\n",
       "        [ 65.36055814, 104.61576749],\n",
       "        [ 65.30789494, 105.14793852],\n",
       "        [ 65.25946264, 105.67587866],\n",
       "        [ 65.21508273, 106.19976639],\n",
       "        [ 65.17458893, 106.71976803],\n",
       "        [ 65.13782602, 107.23603877],\n",
       "        [ 65.10464883, 107.74872378],\n",
       "        [ 65.0749214 , 108.25795904],\n",
       "        [ 65.04851614, 108.76387214],\n",
       "        [ 65.02531311, 109.266583  ],\n",
       "        [ 65.00519944, 109.7662045 ],\n",
       "        [ 64.98806875, 110.26284302],\n",
       "        [ 64.97382061, 110.75659899],\n",
       "        [ 64.96236011, 111.24756732],\n",
       "        [ 64.95359742, 111.73583784],\n",
       "        [ 64.94744747, 112.22149562],\n",
       "        [ 64.94382952, 112.7046214 ],\n",
       "        [ 64.94266695, 113.1852918 ],\n",
       "        [ 64.94388691, 113.66357967],\n",
       "        [ 64.94742007, 114.13955434],\n",
       "        [ 64.95320042, 114.61328182],\n",
       "        [ 64.96116501, 115.08482506],\n",
       "        [ 64.9712538 , 115.5542441 ],\n",
       "        [ 64.98340943, 116.0215963 ],\n",
       "        [ 64.99757709, 116.48693648],\n",
       "        [ 65.01370433, 116.95031706],\n",
       "        [ 65.03174097, 117.41178825],\n",
       "        [ 65.05163892, 117.87139814],\n",
       "        [ 65.07335206, 118.32919282],\n",
       "        [ 65.09683618, 118.78521654],\n",
       "        [ 65.12204879, 119.23951175],\n",
       "        [ 65.14894912, 119.69211926],\n",
       "        [ 65.17749794, 120.14307826],\n",
       "        [ 65.20765755, 120.59242649],\n",
       "        [ 65.23939163, 121.04020024],\n",
       "        [ 65.27266522, 121.48643448],\n",
       "        [ 65.30744466, 121.93116287],\n",
       "        [ 65.34369745, 122.37441791],\n",
       "        [ 65.38139229, 122.8162309 ],\n",
       "        [ 65.42049893, 123.25663209],\n",
       "        [ 65.46098821, 123.69565065],\n",
       "        [ 65.50283191, 124.13331477],\n",
       "        [ 65.5460028 , 124.56965172],\n",
       "        [ 65.59047452, 125.00468783]]))"
      ]
     },
     "execution_count": 96,
     "metadata": {},
     "output_type": "execute_result"
    }
   ],
   "source": [
    "pred_dynamic_opt"
   ]
  },
  {
   "cell_type": "code",
   "execution_count": 108,
   "metadata": {},
   "outputs": [
    {
     "data": {
      "image/png": "[encoded data removed]",
      "text/plain": [
       "<Figure size 576x360 with 1 Axes>"
      ]
     },
     "metadata": {},
     "output_type": "display_data"
    }
   ],
   "source": [
    "N = 52\n",
    "\n",
    "pred_dynamic_opt = results_opt.forecast(2*N)\n",
    "y_p = results_opt.predict(len(df_brent_w['Значение'].values[:-N]), len(df_brent_w['Значение'].values[:-N]), typ='levels')\n",
    "\n",
    "plt.plot(df_brent_w['Значение'].values[-10-N:],'r',label ='true')\n",
    "plt.plot(y_p,'*b',label ='model')\n",
    "plt.plot(np.arange(2*N)+N,pred_dynamic_opt[0],'g',label ='predict')\n",
    "plt.plot(np.arange(2*N)+N,pred_dynamic_opt[2][:,1],'--g', label = 'граница')\n",
    "plt.plot(np.arange(2*N)+N,pred_dynamic_opt[2][:,0],'--g')\n",
    "plt.xlabel('x')\n",
    "plt.ylabel('data_model')\n",
    "plt.title('Предсказание последних N точек ряда  и следующих N точек ряда')\n",
    "plt.legend()\n",
    "plt.show()\n"
   ]
  },
  {
   "cell_type": "markdown",
   "metadata": {},
   "source": [
    "5. Оцените результат моделирования"
   ]
  },
  {
   "cell_type": "markdown",
   "metadata": {},
   "source": [
    "- Судя по графику, предсказание очень линейно и, в реалиях, бесполезно."
   ]
  },
  {
   "cell_type": "markdown",
   "metadata": {},
   "source": [
    "6. Сделайте предположение о моделях, которые лучше работают с техниками регрессии  на основе AR I MA."
   ]
  },
  {
   "cell_type": "markdown",
   "metadata": {},
   "source": [
    "- Сложно на основе двух примеров делать вывод, но подозреваю, что стационарные ряды или где первые разности стационарны, будут давать более точные прогнозы."
   ]
  }
 ],
 "metadata": {
  "kernelspec": {
   "display_name": "Python 3",
   "language": "python",
   "name": "python3"
  },
  "language_info": {
   "codemirror_mode": {
    "name": "ipython",
    "version": 3
   },
   "file_extension": ".py",
   "mimetype": "text/x-python",
   "name": "python",
   "nbconvert_exporter": "python",
   "pygments_lexer": "ipython3",
   "version": "3.7.4"
  }
 },
 "nbformat": 4,
 "nbformat_minor": 2
}
